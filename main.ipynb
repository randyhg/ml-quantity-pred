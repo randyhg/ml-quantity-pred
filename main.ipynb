{
 "cells": [
  {
   "cell_type": "markdown",
   "source": [
    "# **Kelompok 7 - MSE**\n",
    "- Harianto             [2231110]\n",
    "- Jefriyanto Chandra   [2231067]\n",
    "- Bryan Kenedy         [2231141]\n",
    "- Gary Happydinata     [2231152]\n",
    "- Randy Heskyel        [2231149]\n",
    "<br>\n",
    "<i>Machine Learning project for predicting user's purchase quantity</i>"
   ],
   "metadata": {
    "collapsed": false
   },
   "id": "5a45f84f298ddf10"
  },
  {
   "cell_type": "markdown",
   "id": "2f41bcdb31ea4c5e",
   "metadata": {
    "collapsed": false
   },
   "source": [
    "# **Import Libraries**"
   ]
  },
  {
   "cell_type": "code",
   "execution_count": null,
   "id": "3dd231aad16e10f4",
   "metadata": {
    "collapsed": false
   },
   "outputs": [],
   "source": [
    "import pandas as pd\n",
    "import matplotlib.pyplot as plt\n",
    "import seaborn as sns\n",
    "\n",
    "from joblib import dump, load\n",
    "from sklearn import metrics\n",
    "from sklearn.preprocessing import MinMaxScaler, LabelEncoder\n",
    "from sklearn.model_selection import train_test_split\n",
    "from sklearn.ensemble import RandomForestRegressor, AdaBoostRegressor\n",
    "from sklearn.metrics import mean_squared_error, mean_absolute_error, r2_score\n",
    "from sklearn.linear_model import LinearRegression\n",
    "from sklearn.ensemble import GradientBoostingRegressor\n",
    "from sklearn.svm import SVR\n",
    "from xgboost import XGBRegressor\n",
    "from datetime import datetime"
   ]
  },
  {
   "cell_type": "markdown",
   "id": "80502d46a72613f1",
   "metadata": {
    "collapsed": false
   },
   "source": [
    "# **Data Collection**"
   ]
  },
  {
   "cell_type": "code",
   "execution_count": null,
   "id": "1cb12b69c431cf18",
   "metadata": {
    "collapsed": false
   },
   "outputs": [],
   "source": [
    "data = pd.read_csv('example_data.csv')\n",
    "\n",
    "# for revert the scaled pred y to it's real value later\n",
    "unscaled_data = pd.read_csv('example_data.csv')\n",
    "\n",
    "data.head()"
   ]
  },
  {
   "cell_type": "markdown",
   "source": [
    "# **Data Preparation**"
   ],
   "metadata": {
    "collapsed": false
   },
   "id": "b0bcd318610a13ac"
  },
  {
   "cell_type": "markdown",
   "id": "155943ab42a89d0f",
   "metadata": {
    "collapsed": false
   },
   "source": [
    "## EDA (Exploratory Data Analysis)"
   ]
  },
  {
   "cell_type": "code",
   "execution_count": null,
   "id": "edfcb7b77d1882d0",
   "metadata": {
    "collapsed": false
   },
   "outputs": [],
   "source": [
    "data.info()"
   ]
  },
  {
   "cell_type": "code",
   "execution_count": null,
   "id": "5ada00f005c7979e",
   "metadata": {
    "collapsed": false
   },
   "outputs": [],
   "source": [
    "# check dataset columns\n",
    "data.columns"
   ]
  },
  {
   "cell_type": "code",
   "execution_count": null,
   "id": "615ce7e55336bee6",
   "metadata": {
    "collapsed": false
   },
   "outputs": [],
   "source": [
    "# check dataset column data type\n",
    "data.dtypes"
   ]
  },
  {
   "cell_type": "code",
   "execution_count": null,
   "id": "498709fc8fcc19a9",
   "metadata": {
    "collapsed": false
   },
   "outputs": [],
   "source": [
    "# show dataset statistics\n",
    "data.describe()"
   ]
  },
  {
   "cell_type": "code",
   "execution_count": null,
   "id": "2957e36cbbd5c1cc",
   "metadata": {
    "collapsed": false
   },
   "outputs": [],
   "source": [
    "data.isnull().sum()"
   ]
  },
  {
   "cell_type": "code",
   "execution_count": null,
   "id": "e01e94e1a9154f2f",
   "metadata": {
    "collapsed": false
   },
   "outputs": [],
   "source": [
    "# check `Harga Penjualan` distribution\n",
    "sns.histplot(data['Harga Penjualan'], kde=True)\n",
    "plt.title('Harga Penjualan Distribution ')\n",
    "plt.show()"
   ]
  },
  {
   "cell_type": "code",
   "execution_count": null,
   "id": "b5d58a5f2044f29e",
   "metadata": {
    "collapsed": false
   },
   "outputs": [],
   "source": [
    "# check `Kuantitas` boxplot\n",
    "sns.boxplot(x=data['Kuantitas'])\n",
    "plt.title('Kuantitas Boxplot ')\n",
    "plt.show()"
   ]
  },
  {
   "cell_type": "code",
   "execution_count": null,
   "id": "b0d9d3d2029706d5",
   "metadata": {
    "collapsed": false
   },
   "outputs": [],
   "source": [
    "# numveric variables correlations\n",
    "corr_matrix = data[['Umur', 'Kuantitas', 'Harga Penjualan']].corr()\n",
    "sns.heatmap(corr_matrix, annot=True, cmap='Blues')\n",
    "plt.title('Numeric Variables Correlations')\n",
    "plt.show()"
   ]
  },
  {
   "cell_type": "code",
   "execution_count": null,
   "id": "46130473e20086ed",
   "metadata": {
    "collapsed": false
   },
   "outputs": [],
   "source": [
    "# sales trend by `Tanggal`\n",
    "data['Tanggal'] = pd.to_datetime(data['Tanggal'])\n",
    "data.set_index('Tanggal').resample('D')['Harga Penjualan'].sum().plot()\n",
    "plt.title('Daily Sales Trend')\n",
    "plt.show()"
   ]
  },
  {
   "cell_type": "code",
   "execution_count": null,
   "id": "2a9ffc10b8ee58e6",
   "metadata": {
    "collapsed": false
   },
   "outputs": [],
   "source": [
    "# `Metode Pembayaran` distribution\n",
    "sns.countplot(x='Metode Pembayaran', data=data)\n",
    "plt.title('Metode Pembayaran Distribution')\n",
    "plt.show()"
   ]
  },
  {
   "cell_type": "code",
   "execution_count": null,
   "id": "c4787ab02ad76572",
   "metadata": {
    "collapsed": false
   },
   "outputs": [],
   "source": [
    "# Correlation between `Jenis Produk` dan `Kuantitas`\n",
    "sns.boxplot(x='Jenis', y='Kuantitas', data=data)\n",
    "plt.title('Kuantitas by Jenis Produk')\n",
    "plt.show()"
   ]
  },
  {
   "cell_type": "markdown",
   "id": "73a60409e0520fc0",
   "metadata": {
    "collapsed": false
   },
   "source": [
    "## Data Cleaning"
   ]
  },
  {
   "cell_type": "code",
   "execution_count": null,
   "id": "97dc899110e17c98",
   "metadata": {
    "collapsed": false
   },
   "outputs": [],
   "source": [
    "# concatenate `Nama` and `Jenis` column first\n",
    "data['Nama'] = data['Jenis'] + ' ' + data['Nama']\n",
    "\n",
    "# delete `Jenis` column\n",
    "data = data.drop(['Jenis'], axis=1)\n",
    "\n",
    "# delete `Nomor` and `Harga Penjualan` columns\n",
    "data = data.drop(['Nomor', 'Harga Penjualan'], axis=1)\n",
    "\n",
    "data.info()"
   ]
  },
  {
   "cell_type": "code",
   "execution_count": null,
   "id": "e90b1f2ab74619c4",
   "metadata": {
    "collapsed": false
   },
   "outputs": [],
   "source": [
    "# drop null values\n",
    "data.dropna(inplace=True)"
   ]
  },
  {
   "cell_type": "code",
   "execution_count": null,
   "id": "5bd6af569d5e0425",
   "metadata": {
    "collapsed": false
   },
   "outputs": [],
   "source": [
    "data.info()"
   ]
  },
  {
   "cell_type": "code",
   "execution_count": null,
   "id": "76d9b6eac6bd05bc",
   "metadata": {
    "collapsed": false
   },
   "outputs": [],
   "source": [
    "# check duplicated data\n",
    "data.duplicated().sum()"
   ]
  },
  {
   "cell_type": "markdown",
   "id": "a69f687abda2853e",
   "metadata": {
    "collapsed": false
   },
   "source": [
    "## Data normalization"
   ]
  },
  {
   "cell_type": "code",
   "execution_count": null,
   "id": "915c73b8f891245a",
   "metadata": {
    "collapsed": false
   },
   "outputs": [],
   "source": [
    "# transform `Tanggal` column into datetime\n",
    "data['Tanggal'] = pd.to_datetime(data['Tanggal'])\n",
    "data['Tanggal'] = (data['Tanggal'] - data['Tanggal'].min()).dt.days\n",
    "data.head()"
   ]
  },
  {
   "cell_type": "code",
   "execution_count": null,
   "id": "65ecc2b3602167dc",
   "metadata": {
    "collapsed": false
   },
   "outputs": [],
   "source": [
    "le = {}\n",
    "\n",
    "# initiate label encoder\n",
    "for column in ['Hari', 'Nama', 'Kode', 'Unit', 'Metode Pembayaran']:\n",
    "    le[column] = LabelEncoder()\n",
    "\n",
    "# transform categorical columns with label encoder\n",
    "for column in ['Hari', 'Nama', 'Kode', 'Unit', 'Metode Pembayaran']:\n",
    "    data[column] = le[column].fit_transform(data[column].astype(str))\n",
    "\n",
    "data.head()"
   ]
  },
  {
   "cell_type": "code",
   "execution_count": null,
   "id": "92ce49032fc1f125",
   "metadata": {
    "collapsed": false
   },
   "outputs": [],
   "source": [
    "# transform numerical column with min max scaler\n",
    "umur_scaler = MinMaxScaler()\n",
    "kuantitas_scaler = MinMaxScaler()\n",
    "data['Umur'] = umur_scaler.fit_transform(data['Umur'].values.reshape(-1, 1))\n",
    "data['Kuantitas'] = kuantitas_scaler.fit_transform(data['Kuantitas'].values.reshape(-1, 1))\n",
    "\n",
    "data.head()"
   ]
  },
  {
   "cell_type": "code",
   "outputs": [],
   "source": [
    "# dump encoders and scalers\n",
    "dump(le, 'encoders/le_encoders.pkl')\n",
    "dump(umur_scaler, 'scalers/umur_scaler.pkl')\n",
    "dump(kuantitas_scaler, 'scalers/kuantitas_scaler.pkl')"
   ],
   "metadata": {
    "collapsed": false
   },
   "id": "986657dc7e5db2a3",
   "execution_count": null
  },
  {
   "cell_type": "markdown",
   "id": "5bd918f60a68c9f9",
   "metadata": {
    "collapsed": false
   },
   "source": [
    "## Split X and Y data"
   ]
  },
  {
   "cell_type": "code",
   "execution_count": null,
   "id": "b6be1e75bd26b878",
   "metadata": {
    "collapsed": false
   },
   "outputs": [],
   "source": [
    "# drop `Kuantitas` predict from X\n",
    "X = data.drop(['Kuantitas'], axis=1)\n",
    "\n",
    "# assign `Kuantitas` into y\n",
    "y = data['Kuantitas']"
   ]
  },
  {
   "cell_type": "code",
   "execution_count": null,
   "id": "a673b700aab28e97",
   "metadata": {
    "collapsed": false
   },
   "outputs": [],
   "source": [
    "X"
   ]
  },
  {
   "cell_type": "code",
   "execution_count": null,
   "id": "25851c50a0574845",
   "metadata": {
    "collapsed": false
   },
   "outputs": [],
   "source": [
    "y"
   ]
  },
  {
   "cell_type": "code",
   "execution_count": null,
   "id": "7947d8743e4f8b27",
   "metadata": {
    "collapsed": false
   },
   "outputs": [],
   "source": [
    "# split the train and test data (70:30)\n",
    "X_train, X_test, y_train, y_test = train_test_split(X, y, test_size=0.2, random_state=42)\n",
    "\n",
    "print(f'X_train data length: {len(X_train)}')\n",
    "print(f'X_test data length: {len(X_test)}')\n",
    "print(f'y_train data length: {len(y_train)}')\n",
    "print(f'y_test data length: {len(y_test)}')\n",
    "n_samples_train, n_features_train = X_train.shape\n",
    "n_samples_train, n_features_train"
   ]
  },
  {
   "cell_type": "markdown",
   "id": "e1b27303b00d5b04",
   "metadata": {
    "collapsed": false
   },
   "source": [
    "# **Model Training**"
   ]
  },
  {
   "cell_type": "code",
   "execution_count": null,
   "id": "4df1c9012f236578",
   "metadata": {
    "collapsed": false
   },
   "outputs": [],
   "source": [
    "# func for get adjusted_r2\n",
    "def adjusted_r_squared(y_test, y_pred, n_samples, n_features):\n",
    "    r_squared = r2_score(y_test, y_pred)\n",
    "    adjusted_r_squared = 1 - (1 - r_squared) * (n_samples - 1) / (n_samples - n_features - 1)\n",
    "    return adjusted_r_squared\n",
    "\n",
    "# n_samples and n_features for the train set\n",
    "n_samples_train, n_features_train = X_train.shape\n",
    "\n",
    "# n_samples and n_features for the test set\n",
    "n_samples_test, n_features_test = X_test.shape"
   ]
  },
  {
   "cell_type": "markdown",
   "id": "45f7ea28c6e26f5e",
   "metadata": {
    "collapsed": false
   },
   "source": [
    "## Linear Regression"
   ]
  },
  {
   "cell_type": "code",
   "execution_count": null,
   "id": "c6693912612d0a0f",
   "metadata": {
    "collapsed": false
   },
   "outputs": [],
   "source": [
    "# initialize\n",
    "lr = LinearRegression()\n",
    "\n",
    "# train the model\n",
    "lr.fit(X_train, y_train)"
   ]
  },
  {
   "cell_type": "code",
   "execution_count": null,
   "id": "8dc69899002c7911",
   "metadata": {
    "collapsed": false
   },
   "outputs": [],
   "source": [
    "# Linear Regression predict\n",
    "lr_y_pred_train = lr.predict(X_train)\n",
    "\n",
    "# evaluate\n",
    "lr_y_pred_train_mse = mean_squared_error(y_train, lr_y_pred_train)\n",
    "lr_y_pred_train_mae = mean_absolute_error(y_train, lr_y_pred_train)\n",
    "lr_y_pred_train_r2 = r2_score(y_train, lr_y_pred_train)\n",
    "lr_y_pred_train_adjusted_r2 = adjusted_r_squared(y_train, lr_y_pred_train, n_samples_train, n_features_train)\n",
    "\n",
    "# print\n",
    "print(\"Linear Regression Evaluation Metrics\")\n",
    "print(f\"Mean Squared Error (MSE):   {lr_y_pred_train_mse:.3f}\")\n",
    "print(f\"Mean Absolute Error (MAE):  {lr_y_pred_train_mae:.3f}\")\n",
    "print(f\"R-squared Score (R2):       {lr_y_pred_train_r2:.3f}\")\n",
    "print(f\"Adjusted R-squared Score:   {lr_y_pred_train_adjusted_r2:.3f}\")"
   ]
  },
  {
   "cell_type": "code",
   "execution_count": null,
   "id": "f7c91bd4fe02b235",
   "metadata": {
    "collapsed": false
   },
   "outputs": [],
   "source": [
    "# plot actual vs predicted \n",
    "plt.figure(figsize=(10, 6))\n",
    "plt.scatter(y_train, lr_y_pred_train, c='crimson')\n",
    "plt.xscale('log')\n",
    "plt.yscale('log')\n",
    "plt.xlabel('Actual Value')\n",
    "plt.ylabel('Predicted Value')\n",
    "plt.title('LR Train Actual vs Predicted')\n",
    "plt.plot([y_train.min(), y_train.max()], [y_train.min(), y_train.max()], 'b-')\n",
    "plt.axis('equal')\n",
    "plt.show()"
   ]
  },
  {
   "cell_type": "markdown",
   "id": "3e8195001a3450cb",
   "metadata": {
    "collapsed": false
   },
   "source": [
    "## XGB Regression"
   ]
  },
  {
   "cell_type": "code",
   "execution_count": null,
   "id": "e44cf49f3c137746",
   "metadata": {
    "collapsed": false
   },
   "outputs": [],
   "source": [
    "# initialize\n",
    "xgb = XGBRegressor()\n",
    "\n",
    "# train the model\n",
    "xgb.fit(X_train, y_train)"
   ]
  },
  {
   "cell_type": "code",
   "execution_count": null,
   "id": "238f4e0247c5829",
   "metadata": {
    "collapsed": false
   },
   "outputs": [],
   "source": [
    "# XGB Regression predict\n",
    "xgb_y_pred_train = xgb.predict(X_train)\n",
    "\n",
    "# evaluate\n",
    "xgb_y_pred_train_mse = mean_squared_error(y_train, xgb_y_pred_train)\n",
    "xgb_y_pred_train_mae = mean_absolute_error(y_train, xgb_y_pred_train)\n",
    "xgb_y_pred_train_r2 = r2_score(y_train, xgb_y_pred_train)\n",
    "xgb_y_pred_train_adjusted_r2 = adjusted_r_squared(y_train, xgb_y_pred_train, n_samples_train, n_features_train)\n",
    "\n",
    "# print\n",
    "print(\"XGB Regression Evaluation Metrics\")\n",
    "print(f\"Mean Squared Error (MSE):   {xgb_y_pred_train_mse:.3f}\")\n",
    "print(f\"Mean Absolute Error (MAE):  {xgb_y_pred_train_mae:.3f}\")\n",
    "print(f\"R-squared Score (R2):       {xgb_y_pred_train_r2:.3f}\")\n",
    "print(f\"Adjusted R-squared Score:   {xgb_y_pred_train_adjusted_r2:.3f}\")"
   ]
  },
  {
   "cell_type": "code",
   "execution_count": null,
   "id": "3cd4fda43a6929ee",
   "metadata": {
    "collapsed": false
   },
   "outputs": [],
   "source": [
    "# plot actual vs predicted \n",
    "plt.figure(figsize=(10, 6))\n",
    "plt.scatter(y_train, xgb_y_pred_train, c='crimson')\n",
    "plt.xscale('log')\n",
    "plt.yscale('log')\n",
    "plt.xlabel('Actual Value')\n",
    "plt.ylabel('Predicted Value')\n",
    "plt.title('XGB Train Actual vs Predicted')\n",
    "plt.plot([y_train.min(), y_train.max()], [y_train.min(), y_train.max()], 'b-')\n",
    "plt.axis('equal')\n",
    "plt.show()"
   ]
  },
  {
   "cell_type": "markdown",
   "id": "f7b13659eeb24aac",
   "metadata": {
    "collapsed": false
   },
   "source": [
    "## Random Forest Regression"
   ]
  },
  {
   "cell_type": "code",
   "execution_count": null,
   "id": "947daebe8aa6421c",
   "metadata": {
    "collapsed": false
   },
   "outputs": [],
   "source": [
    "# initialize\n",
    "rf = RandomForestRegressor(n_estimators=100, random_state=100)\n",
    "\n",
    "# train the model\n",
    "rf.fit(X_train, y_train)"
   ]
  },
  {
   "cell_type": "code",
   "execution_count": null,
   "id": "a7140157a2d0f7cb",
   "metadata": {
    "collapsed": false
   },
   "outputs": [],
   "source": [
    "# XGB Regression predict\n",
    "rf_y_pred_train = rf.predict(X_train)\n",
    "\n",
    "# evaluate\n",
    "rf_y_pred_train_mse = mean_squared_error(y_train, rf_y_pred_train)\n",
    "rf_y_pred_train_mae = mean_absolute_error(y_train, rf_y_pred_train)\n",
    "rf_y_pred_train_r2 = r2_score(y_train, rf_y_pred_train)\n",
    "rf_y_pred_train_adjusted_r2 = adjusted_r_squared(y_train, rf_y_pred_train, n_samples_train, n_features_train)\n",
    "\n",
    "# print\n",
    "print(\"Random Forest Regression Evaluation Metrics\")\n",
    "print(f\"Mean Squared Error (MSE):   {rf_y_pred_train_mse:.3f}\")\n",
    "print(f\"Mean Absolute Error (MAE):  {rf_y_pred_train_mae:.3f}\")\n",
    "print(f\"R-squared Score (R2):       {rf_y_pred_train_r2:.3f}\")\n",
    "print(f\"Adjusted R-squared Score:   {rf_y_pred_train_adjusted_r2:.3f}\")"
   ]
  },
  {
   "cell_type": "code",
   "execution_count": null,
   "id": "d0598d31663c68f",
   "metadata": {
    "collapsed": false
   },
   "outputs": [],
   "source": [
    "# plot actual vs predicted \n",
    "plt.figure(figsize=(10, 6))\n",
    "plt.scatter(y_train, rf_y_pred_train, c='crimson')\n",
    "plt.xscale('log')\n",
    "plt.yscale('log')\n",
    "plt.xlabel('Actual Value')\n",
    "plt.ylabel('Predicted Value')\n",
    "plt.title('RF Train Actual vs Predicted')\n",
    "plt.plot([y_train.min(), y_train.max()], [y_train.min(), y_train.max()], 'b-')\n",
    "plt.axis('equal')\n",
    "plt.show()"
   ]
  },
  {
   "cell_type": "code",
   "execution_count": null,
   "id": "9fbf04a9-20e7-459f-bfa9-c166d9cd8cd1",
   "metadata": {
    "collapsed": false
   },
   "outputs": [],
   "source": []
  },
  {
   "cell_type": "markdown",
   "id": "25a3837d9c443c29",
   "metadata": {
    "collapsed": false
   },
   "source": [
    "## GBR Regression"
   ]
  },
  {
   "cell_type": "code",
   "execution_count": null,
   "id": "c6f9f7c7202596db",
   "metadata": {
    "collapsed": false
   },
   "outputs": [],
   "source": [
    "# initialize\n",
    "gbr = GradientBoostingRegressor()\n",
    "\n",
    "# train the model\n",
    "gbr.fit(X_train, y_train)"
   ]
  },
  {
   "cell_type": "code",
   "execution_count": null,
   "id": "d6de8039ee9b776e",
   "metadata": {
    "collapsed": false
   },
   "outputs": [],
   "source": [
    "# GBR Regression predict\n",
    "gbr_y_pred_train = gbr.predict(X_train)\n",
    "\n",
    "# evaluate\n",
    "gbr_y_pred_train_mse = mean_squared_error(y_train, gbr_y_pred_train)\n",
    "gbr_y_pred_train_mae = mean_absolute_error(y_train, gbr_y_pred_train)\n",
    "gbr_y_pred_train_r2 = r2_score(y_train, gbr_y_pred_train)\n",
    "gbr_y_pred_train_adjusted_r2 = adjusted_r_squared(y_train, gbr_y_pred_train, n_samples_train, n_features_train)\n",
    "\n",
    "# print\n",
    "print(\"GBR Regression Evaluation Metrics\")\n",
    "print(f\"Mean Squared Error (MSE):   {gbr_y_pred_train_mse:.3f}\")\n",
    "print(f\"Mean Absolute Error (MAE):  {gbr_y_pred_train_mae:.3f}\")\n",
    "print(f\"R-squared Score (R2):       {gbr_y_pred_train_r2:.3f}\")\n",
    "print(f\"Adjusted R-squared Score:   {gbr_y_pred_train_adjusted_r2:.3f}\")"
   ]
  },
  {
   "cell_type": "code",
   "execution_count": null,
   "id": "c5f621fe89b42ee7",
   "metadata": {
    "collapsed": false
   },
   "outputs": [],
   "source": [
    "# plot actual vs predicted \n",
    "plt.figure(figsize=(10, 6))\n",
    "plt.scatter(y_train, gbr_y_pred_train, c='crimson')\n",
    "plt.xscale('log')\n",
    "plt.yscale('log')\n",
    "plt.xlabel('Actual Value')\n",
    "plt.ylabel('Predicted Value')\n",
    "plt.title('GBR Train Actual vs Predicted')\n",
    "plt.plot([y_train.min(), y_train.max()], [y_train.min(), y_train.max()], 'b-')\n",
    "plt.axis('equal')\n",
    "plt.show()"
   ]
  },
  {
   "cell_type": "markdown",
   "source": [
    "## SVM Regression"
   ],
   "metadata": {
    "collapsed": false
   },
   "id": "7cda2141cb16f507"
  },
  {
   "cell_type": "code",
   "outputs": [],
   "source": [
    "# initialize\n",
    "svr = SVR()\n",
    "\n",
    "# train the model\n",
    "svr.fit(X_train, y_train)"
   ],
   "metadata": {
    "collapsed": false
   },
   "id": "a1f4809020581780",
   "execution_count": null
  },
  {
   "cell_type": "code",
   "outputs": [],
   "source": [
    "# SVM Regression predict\n",
    "svm_y_pred_train = svr.predict(X_train)\n",
    "\n",
    "# evaluate\n",
    "svm_y_pred_train_mse = mean_squared_error(y_train, svm_y_pred_train)\n",
    "svm_y_pred_train_mae = mean_absolute_error(y_train, svm_y_pred_train)\n",
    "svm_y_pred_train_r2 = r2_score(y_train, svm_y_pred_train)\n",
    "svm_y_pred_train_adjusted_r2 = adjusted_r_squared(y_train, svm_y_pred_train, n_samples_train, n_features_train)\n",
    "\n",
    "# print\n",
    "print(\"SVM Regression Evaluation Metrics\")\n",
    "print(f\"Mean Squared Error (MSE):   {svm_y_pred_train_mse:.3f}\")\n",
    "print(f\"Mean Absolute Error (MAE):  {svm_y_pred_train_mae:.3f}\")\n",
    "print(f\"R-squared Score (R2):       {svm_y_pred_train_r2:.3f}\")\n",
    "print(f\"Adjusted R-squared Score:   {svm_y_pred_train_adjusted_r2:.3f}\")"
   ],
   "metadata": {
    "collapsed": false
   },
   "id": "e4168e304eb53015",
   "execution_count": null
  },
  {
   "cell_type": "code",
   "outputs": [],
   "source": [
    "# plot actual vs predicted \n",
    "plt.figure(figsize=(10, 6))\n",
    "plt.scatter(y_train, svm_y_pred_train, c='crimson')\n",
    "plt.xscale('log')\n",
    "plt.yscale('log')\n",
    "plt.xlabel('Actual Value')\n",
    "plt.ylabel('Predicted Value')\n",
    "plt.title('SVM Train Actual vs Predicted')\n",
    "plt.plot([y_train.min(), y_train.max()], [y_train.min(), y_train.max()], 'b-')\n",
    "plt.axis('equal')\n",
    "plt.show()"
   ],
   "metadata": {
    "collapsed": false
   },
   "id": "c317a11edb59ec40",
   "execution_count": null
  },
  {
   "cell_type": "markdown",
   "id": "e77059b17234a352",
   "metadata": {
    "collapsed": false
   },
   "source": [
    "# **Save The Trained Model**"
   ]
  },
  {
   "cell_type": "code",
   "execution_count": null,
   "id": "a48419426034c460",
   "metadata": {
    "collapsed": false
   },
   "outputs": [],
   "source": [
    "# save all the models\n",
    "dump(lr, 'models/LinearRegression.joblib')\n",
    "dump(xgb, 'models/XGBRegression.joblib')\n",
    "dump(rf, 'models/RandomForestRegression.joblib')\n",
    "dump(gbr, 'models/GBRRegression.joblib')\n",
    "dump(svr, 'models/SVRRegression.joblib')"
   ]
  },
  {
   "cell_type": "markdown",
   "id": "caaa2d930254af5",
   "metadata": {
    "collapsed": false
   },
   "source": [
    "# **Test The Models with Testing Data**"
   ]
  },
  {
   "cell_type": "markdown",
   "id": "9cb3328c76329ce0",
   "metadata": {
    "collapsed": false
   },
   "source": [
    "## Linear Regression"
   ]
  },
  {
   "cell_type": "code",
   "execution_count": null,
   "id": "26dd6494e48c05c4",
   "metadata": {
    "collapsed": false
   },
   "outputs": [],
   "source": [
    "#  load the saved model\n",
    "lr_loaded = load('models/LinearRegression.joblib')"
   ]
  },
  {
   "cell_type": "code",
   "execution_count": null,
   "id": "107d96075997390d",
   "metadata": {
    "collapsed": false
   },
   "outputs": [],
   "source": [
    "# predict\n",
    "lr_y_pred_test = lr_loaded.predict(X_test)\n",
    "\n",
    "# evaluate\n",
    "lr_y_pred_test_mse = mean_squared_error(y_test, lr_y_pred_test)\n",
    "lr_y_pred_test_mae = mean_absolute_error(y_test, lr_y_pred_test)\n",
    "lr_y_pred_test_r2 = r2_score(y_test, lr_y_pred_test)\n",
    "lr_y_pred_test_adjusted_r2 = adjusted_r_squared(y_test, lr_y_pred_test, n_samples_test, n_features_test)\n",
    "\n",
    "# print\n",
    "print(\"Linear Regression Test Evaluation Metrics\")\n",
    "print(f\"Mean Squared Error (MSE):   {lr_y_pred_test_mse:.3f}\")\n",
    "print(f\"Mean Absolute Error (MAE):  {lr_y_pred_test_mae:.3f}\")\n",
    "print(f\"R-squared Score (R2):       {lr_y_pred_test_r2:.3f}\")\n",
    "print(f\"Adjusted R-squared Score:   {lr_y_pred_test_adjusted_r2:.3f}\")"
   ]
  },
  {
   "cell_type": "code",
   "execution_count": null,
   "id": "1311806f0c4a8f07",
   "metadata": {
    "collapsed": false
   },
   "outputs": [],
   "source": [
    "# plot actual vs predicted \n",
    "plt.figure(figsize=(10, 6))\n",
    "plt.scatter(y_test, lr_y_pred_test, c='crimson')\n",
    "plt.xscale('log')\n",
    "plt.yscale('log')\n",
    "plt.xlabel('Actual Value')\n",
    "plt.ylabel('Predicted Value')\n",
    "plt.title('LR Test Actual vs Predicted')\n",
    "plt.plot([y_test.min(), y_test.max()], [y_test.min(), y_test.max()], 'b-')\n",
    "plt.axis('equal')\n",
    "plt.show()"
   ]
  },
  {
   "cell_type": "markdown",
   "id": "377250d51fe9a0ec",
   "metadata": {
    "collapsed": false
   },
   "source": [
    "## XGB Regression"
   ]
  },
  {
   "cell_type": "code",
   "execution_count": null,
   "id": "997e2c447fa21d33",
   "metadata": {
    "collapsed": false
   },
   "outputs": [],
   "source": [
    "#  load the saved model\n",
    "xgb_loaded = load('models/XGBRegression.joblib')"
   ]
  },
  {
   "cell_type": "code",
   "execution_count": null,
   "id": "5f4f7351e7368f28",
   "metadata": {
    "collapsed": false
   },
   "outputs": [],
   "source": [
    "# predict\n",
    "xgb_y_pred_test = xgb_loaded.predict(X_test)\n",
    "\n",
    "# evaluate\n",
    "xgb_y_pred_test_mse = mean_squared_error(y_test, xgb_y_pred_test)\n",
    "xgb_y_pred_test_mae = mean_absolute_error(y_test, xgb_y_pred_test)\n",
    "xgb_y_pred_test_r2 = r2_score(y_test, xgb_y_pred_test)\n",
    "xgb_y_pred_test_adjusted_r2 = adjusted_r_squared(y_test, xgb_y_pred_test, n_samples_test, n_features_test)\n",
    "\n",
    "# print\n",
    "print(\"XGB Regression Test Evaluation Metrics\")\n",
    "print(f\"Mean Squared Error (MSE):   {xgb_y_pred_test_mse:.3f}\")\n",
    "print(f\"Mean Absolute Error (MAE):  {xgb_y_pred_test_mae:.3f}\")\n",
    "print(f\"R-squared Score (R2):       {xgb_y_pred_test_r2:.3f}\")\n",
    "print(f\"Adjusted R-squared Score:   {xgb_y_pred_test_adjusted_r2:.3f}\")"
   ]
  },
  {
   "cell_type": "code",
   "execution_count": null,
   "id": "cf4a01563b6e8732",
   "metadata": {
    "collapsed": false
   },
   "outputs": [],
   "source": [
    "# plot actual vs predicted \n",
    "plt.figure(figsize=(10, 6))\n",
    "plt.scatter(y_test, xgb_y_pred_test, c='crimson')\n",
    "plt.xscale('log')\n",
    "plt.yscale('log')\n",
    "plt.xlabel('Actual Value')\n",
    "plt.ylabel('Predicted Value')\n",
    "plt.title('XGB Test Actual vs Predicted')\n",
    "plt.plot([y_test.min(), y_test.max()], [y_test.min(), y_test.max()], 'b-')\n",
    "plt.axis('equal')\n",
    "plt.show()"
   ]
  },
  {
   "cell_type": "markdown",
   "id": "1a8fc348b86dcec3",
   "metadata": {
    "collapsed": false
   },
   "source": [
    "## Random Forest Regression"
   ]
  },
  {
   "cell_type": "code",
   "execution_count": null,
   "id": "3699b743605b080b",
   "metadata": {
    "collapsed": false
   },
   "outputs": [],
   "source": [
    "#  load the saved model\n",
    "rf_loaded = load('models/RandomForestRegression.joblib')"
   ]
  },
  {
   "cell_type": "code",
   "execution_count": null,
   "id": "2a6bd03418effa7d",
   "metadata": {
    "collapsed": false
   },
   "outputs": [],
   "source": [
    "# predict\n",
    "rf_y_pred_test = rf_loaded.predict(X_test)\n",
    "\n",
    "# evaluate\n",
    "rf_y_pred_test_mse = mean_squared_error(y_test, rf_y_pred_test)\n",
    "rf_y_pred_test_mae = mean_absolute_error(y_test, rf_y_pred_test)\n",
    "rf_y_pred_test_r2 = r2_score(y_test, rf_y_pred_test)\n",
    "rf_y_pred_test_adjusted_r2 = adjusted_r_squared(y_test, rf_y_pred_test, n_samples_test, n_features_test)\n",
    "\n",
    "# print\n",
    "print(\"Random Forest Regression Test Evaluation Metrics\")\n",
    "print(f\"Mean Squared Error (MSE):   {rf_y_pred_test_mse:.3f}\")\n",
    "print(f\"Mean Absolute Error (MAE):  {rf_y_pred_test_mae:.3f}\")\n",
    "print(f\"R-squared Score (R2):       {rf_y_pred_test_r2:.3f}\")\n",
    "print(f\"Adjusted R-squared Score:   {rf_y_pred_test_adjusted_r2:.3f}\")"
   ]
  },
  {
   "cell_type": "code",
   "execution_count": null,
   "id": "223b970e175c3d62",
   "metadata": {
    "collapsed": false
   },
   "outputs": [],
   "source": [
    "# plot actual vs predicted \n",
    "plt.figure(figsize=(10, 6))\n",
    "plt.scatter(y_test, rf_y_pred_test, c='crimson')\n",
    "plt.xscale('log')\n",
    "plt.yscale('log')\n",
    "plt.xlabel('Actual Value')\n",
    "plt.ylabel('Predicted Value')\n",
    "plt.title('RF Test Actual vs Predicted')\n",
    "plt.plot([y_test.min(), y_test.max()], [y_test.min(), y_test.max()], 'b-')\n",
    "plt.axis('equal')\n",
    "plt.show()"
   ]
  },
  {
   "cell_type": "markdown",
   "id": "4eb98be1dffe2612",
   "metadata": {
    "collapsed": false
   },
   "source": [
    "## GBR Regression"
   ]
  },
  {
   "cell_type": "code",
   "execution_count": null,
   "id": "4b5c703f0cbc0412",
   "metadata": {
    "collapsed": false
   },
   "outputs": [],
   "source": [
    "#  load the saved model\n",
    "gbr_loaded = load('models/GBRRegression.joblib')"
   ]
  },
  {
   "cell_type": "code",
   "execution_count": null,
   "id": "52c45c66a9369d46",
   "metadata": {
    "collapsed": false
   },
   "outputs": [],
   "source": [
    "# predict\n",
    "gbr_y_pred_test = gbr_loaded.predict(X_test)\n",
    "\n",
    "# evaluate\n",
    "gbr_y_pred_test_mse = mean_squared_error(y_test, gbr_y_pred_test)\n",
    "gbr_y_pred_test_mae = mean_absolute_error(y_test, gbr_y_pred_test)\n",
    "gbr_y_pred_test_r2 = r2_score(y_test, gbr_y_pred_test)\n",
    "gbr_y_pred_test_adjusted_r2 = adjusted_r_squared(y_test, gbr_y_pred_test, n_samples_test, n_features_test)\n",
    "\n",
    "# print\n",
    "print(\"GBR Regression Test Evaluation Metrics\")\n",
    "print(f\"Mean Squared Error (MSE):   {gbr_y_pred_test_mse:.3f}\")\n",
    "print(f\"Mean Absolute Error (MAE):  {gbr_y_pred_test_mae:.3f}\")\n",
    "print(f\"R-squared Score (R2):       {gbr_y_pred_test_r2:.3f}\")\n",
    "print(f\"Adjusted R-squared Score:   {gbr_y_pred_test_adjusted_r2:.3f}\")"
   ]
  },
  {
   "cell_type": "code",
   "execution_count": null,
   "id": "7b44d877c023d7a4",
   "metadata": {
    "collapsed": false
   },
   "outputs": [],
   "source": [
    "# plot actual vs predicted \n",
    "plt.figure(figsize=(10, 6))\n",
    "plt.scatter(y_test, gbr_y_pred_test, c='crimson')\n",
    "plt.xscale('log')\n",
    "plt.yscale('log')\n",
    "plt.xlabel('Actual Value')\n",
    "plt.ylabel('Predicted Value')\n",
    "plt.title('GBR Test Actual vs Predicted')\n",
    "plt.plot([y_test.min(), y_test.max()], [y_test.min(), y_test.max()], 'b-')\n",
    "plt.axis('equal')\n",
    "plt.show()"
   ]
  },
  {
   "cell_type": "markdown",
   "source": [
    "## SVR Regression"
   ],
   "metadata": {
    "collapsed": false
   },
   "id": "b686606cf28d4a8b"
  },
  {
   "cell_type": "code",
   "outputs": [],
   "source": [
    "#  load the saved model\n",
    "svr_loaded = load('models/SVRRegression.joblib')"
   ],
   "metadata": {
    "collapsed": false
   },
   "id": "73d4263b1a2fa58f",
   "execution_count": null
  },
  {
   "cell_type": "code",
   "outputs": [],
   "source": [
    "# predict\n",
    "svr_y_pred_test = svr_loaded.predict(X_test)\n",
    "\n",
    "# evaluate\n",
    "svr_y_pred_test_mse = mean_squared_error(y_test, svr_y_pred_test)\n",
    "svr_y_pred_test_mae = mean_absolute_error(y_test, svr_y_pred_test)\n",
    "svr_y_pred_test_r2 = r2_score(y_test, svr_y_pred_test)\n",
    "svr_y_pred_test_adjusted_r2 = adjusted_r_squared(y_test, svr_y_pred_test, n_samples_test, n_features_test)\n",
    "\n",
    "# print\n",
    "print(\"SVR Regression Test Evaluation Metrics\")\n",
    "print(f\"Mean Squared Error (MSE):   {svr_y_pred_test_mse:.3f}\")\n",
    "print(f\"Mean Absolute Error (MAE):  {svr_y_pred_test_mae:.3f}\")\n",
    "print(f\"R-squared Score (R2):       {svr_y_pred_test_r2:.3f}\")\n",
    "print(f\"Adjusted R-squared Score:   {svr_y_pred_test_adjusted_r2:.3f}\")"
   ],
   "metadata": {
    "collapsed": false
   },
   "id": "1a2b0b1bda49d00",
   "execution_count": null
  },
  {
   "cell_type": "code",
   "outputs": [],
   "source": [
    "# plot actual vs predicted \n",
    "plt.figure(figsize=(10, 6))\n",
    "plt.scatter(y_test, svr_y_pred_test, c='crimson')\n",
    "plt.xscale('log')\n",
    "plt.yscale('log')\n",
    "plt.xlabel('Actual Value')\n",
    "plt.ylabel('Predicted Value')\n",
    "plt.title('SVR Test Actual vs Predicted')\n",
    "plt.plot([y_test.min(), y_test.max()], [y_test.min(), y_test.max()], 'b-')\n",
    "plt.axis('equal')\n",
    "plt.show()"
   ],
   "metadata": {
    "collapsed": false
   },
   "id": "9ce0132d0ca95de8",
   "execution_count": null
  },
  {
   "cell_type": "markdown",
   "source": [
    "# **Create Function For Predict Using Chosen Models**"
   ],
   "metadata": {
    "collapsed": false
   },
   "id": "b24c7f261dd053f5"
  },
  {
   "cell_type": "code",
   "outputs": [],
   "source": [
    "def predict(nama, umur, kode, metode_pembayaran, tanggal, unit):\n",
    "\n",
    "    # get day by date\n",
    "    date_object = datetime.strptime(tanggal, \"%m/%d/%Y\")\n",
    "    hari = date_object.strftime(\"%A\")\n",
    "\n",
    "    data = {\n",
    "        'Umur': [umur],\n",
    "        'Tanggal': [tanggal],\n",
    "        'Hari': [hari],\n",
    "        'Nama': [nama],\n",
    "        'Kode': [kode],\n",
    "        'Unit': [unit],\n",
    "        'Metode Pembayaran': [metode_pembayaran],\n",
    "    }\n",
    "\n",
    "    df = pd.DataFrame(data)\n",
    "\n",
    "    le_loaded = load('encoders/le_encoders.pkl')\n",
    "    umur_scaler_loaded = load('scalers/umur_scaler.pkl')\n",
    "    kuantitas_scaler_loaded = load('scalers/kuantitas_scaler.pkl')\n",
    "\n",
    "    # check `unseen labels`\n",
    "    def transform_label(column, value):\n",
    "        if value in le_loaded[column].classes_:\n",
    "            return le_loaded[column].transform([value])[0]\n",
    "        else:\n",
    "            raise ValueError(f\"Unseen label '{value}' encountered in column '{column}'\")\n",
    "            # return -1\n",
    "\n",
    "    for column in ['Hari', 'Nama', 'Kode', 'Unit', 'Metode Pembayaran']:\n",
    "        df[column] = df[column].apply(lambda x: transform_label(column, x))\n",
    "\n",
    "    df['Tanggal'] = pd.to_datetime(df['Tanggal'])\n",
    "    df['Tanggal'] = (df['Tanggal'] - df['Tanggal'].min()).dt.days\n",
    "\n",
    "    df['Umur'] = umur_scaler_loaded.transform(df['Umur'].values.reshape(-1, 1))\n",
    "\n",
    "    rf_loaded_model = load('models/RandomForestRegression.joblib')\n",
    "    rf_loaded_pred_scaled = rf_loaded_model.predict(df)\n",
    "    rf_loaded_pred = kuantitas_scaler_loaded.inverse_transform(rf_loaded_pred_scaled.reshape(-1,1))\n",
    "    return int(round(rf_loaded_pred[0][0],0))"
   ],
   "metadata": {
    "collapsed": false
   },
   "id": "545e75237c32d665",
   "execution_count": null
  },
  {
   "cell_type": "code",
   "outputs": [],
   "source": [
    "name = 'Bag Fashion'\n",
    "age = 47\n",
    "code = '2930'\n",
    "payment_method = 'Cashless'\n",
    "date = '12/3/2023'\n",
    "unit = 'pcs'\n",
    "\n",
    "test_qty_pred = predict(name, age, code, payment_method, date, unit)\n",
    "print(f\"Prediction purchase quantity: {test_qty_pred} {unit}\")"
   ],
   "metadata": {
    "collapsed": false
   },
   "id": "dc730e356711795b",
   "execution_count": null
  }
 ],
 "metadata": {
  "kernelspec": {
   "display_name": "Python 3 (ipykernel)",
   "language": "python",
   "name": "python3"
  },
  "language_info": {
   "codemirror_mode": {
    "name": "ipython",
    "version": 3
   },
   "file_extension": ".py",
   "mimetype": "text/x-python",
   "name": "python",
   "nbconvert_exporter": "python",
   "pygments_lexer": "ipython3",
   "version": "3.12.1"
  }
 },
 "nbformat": 4,
 "nbformat_minor": 5
}
